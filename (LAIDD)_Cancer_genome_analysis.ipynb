{
  "nbformat": 4,
  "nbformat_minor": 0,
  "metadata": {
    "colab": {
      "provenance": [],
      "include_colab_link": true
    },
    "kernelspec": {
      "name": "python3",
      "display_name": "Python 3"
    },
    "language_info": {
      "name": "python"
    }
  },
  "cells": [
    {
      "cell_type": "markdown",
      "metadata": {
        "id": "view-in-github",
        "colab_type": "text"
      },
      "source": [
        "<a href=\"https://colab.research.google.com/github/KwagEunsang/AI/blob/main/(LAIDD)_Cancer_genome_analysis.ipynb\" target=\"_parent\"><img src=\"https://colab.research.google.com/assets/colab-badge.svg\" alt=\"Open In Colab\"/></a>"
      ]
    },
    {
      "cell_type": "markdown",
      "source": [
        "## 2강. Cancer Mutation 1"
      ],
      "metadata": {
        "id": "xaE7LWDL4RcV"
      }
    },
    {
      "cell_type": "code",
      "execution_count": null,
      "metadata": {
        "id": "hKZ7x4nj3ble"
      },
      "outputs": [],
      "source": [
        "# Set working directory\n",
        "setwd()  # command in terminal\n",
        "list.files()  # check if the current directory is a correct one\n",
        "\n",
        "# Read 'essential part' of maf\n",
        "tcga.mut = read.csv(\"mc3.v0.2.8.PUBLIC.maf\", header=T, sep=\"\\t\", colClasses =\n",
        "  c(\"character\", \"NULL\", \"NULL\", \"NULL\", \"character\", \"integer\", \"integer\", \"NULL\",\n",
        "    \"character\", \"character\", \"character\", \"NULL\", \"character\", \"NULL\", \"NULL\",\n",
        "    \"character\", \"character\", rep(\"NULL\", 17), \"character\", \"NULL\", \"character\",\n",
        "    \"NULL\", \"NULL\", rep(\"integer\", 6), rep(\"NULL\", 69)))\n",
        "\n",
        "# check the number of entries\n",
        "dim(tcga.mut)\n",
        "\n",
        "# first 10 lines of the data (also use tail(tcga.mut))\n",
        "head(tcga.mut)"
      ]
    },
    {
      "cell_type": "code",
      "source": [
        "> length(unique(tcga.mut$Tumor_Sample_Barcode))\n",
        "\n",
        "> head(table(tcga.mut$Tumor_Sample_Barcode))\n",
        "\n",
        "> plot(table(tcga.mut$Tumor_Sample_Barcode))\n",
        "\n",
        "> plot(sort(table(tcga.mut$Tumor_Sample_Barcode)))\n",
        "\n",
        "> plot(log(sort(table(tcga.mut$Tumor_Sample_Barcode)), 2))"
      ],
      "metadata": {
        "id": "qOuOOo6U3s3X"
      },
      "execution_count": null,
      "outputs": []
    },
    {
      "cell_type": "code",
      "source": [
        "install.packages(\"readxl\")      # 최초 1회만\n",
        "install.packages(\"tibble\")   # 최초 1회만\n",
        "library(readxl)\n",
        "library(dplyr)\n",
        "library(tibble)\n",
        "\n",
        "raw_df <- read_excel(\"TCGA-CDR-SupplementalTableS1.xlsx\", sheet = \"TCGA-CDR\")\n",
        "\n",
        "tumortype_tcga <- raw_df %>%\n",
        "  select(bcr_patient_barcode, type) %>%\n",
        "  column_to_rownames(\"bcr_patient_barcode\")\n"
      ],
      "metadata": {
        "id": "SgZ3Z6X94Jfw"
      },
      "execution_count": null,
      "outputs": []
    },
    {
      "cell_type": "code",
      "source": [
        "# case number for tumor types\n",
        "tumortype_tmb = table(tumortype_tcga$type)\n",
        "\n",
        "# Tumor types with cases < 100 (UVM tumor type)\n",
        "names(tumortype_tmb)[tumortype_tmb < 100]\n",
        "\n",
        "# Code to illustrate TMB for 10 tumor types\n",
        "par(mfrow=c(2,3))\n",
        "\n",
        "for (tumortype in names(tumortype_tmb)[tumortype_tmb < 100]) {\n",
        "  samples = rownames(tumortype_tcga)[tumortype_tcga$type == tumortype]\n",
        "  samples_in_mut = tcga.mut$Tumor_Sample_Barcode[substr(tcga.mut$Tumor_Sample_Barcode, 1, 15) %in% paste0(samples, \"-01\")]\n",
        "\n",
        "  plot(log(sort(table(samples_in_mut)), 2), type=\"p\", ylab='', xaxt=\"n\", xlab='', main=tumortype)\n",
        "}"
      ],
      "metadata": {
        "id": "zk1WSxO-4N3L"
      },
      "execution_count": null,
      "outputs": []
    },
    {
      "cell_type": "code",
      "source": [
        "table(tcga.mut$Hugo_Symbol)\n",
        "tail(sort(table(tcga.mut$Hugo_Symbol)))\n",
        "\n",
        "# UVM 샘플만 필터링 (예시: Tumor_Type 또는 bcr_patient_barcode 등으로 UVM 샘플 식별)\n",
        "uvm_mut <- tcga.mut[tcga.mut$Tumor_Type == \"UVM\", ]  # Tumor_Type 컬럼이 있는 경우\n",
        "\n",
        "# 또는 bcr_patient_barcode가 UVM 환자인 경우\n",
        "# uvm_mut <- tcga.mut[tcga.mut$bcr_patient_barcode %in% uvm_patient_barcodes, ]\n",
        "\n",
        "# UVM 샘플의 Hugo_Symbol별 mutation count 정렬\n",
        "uvm_counts <- sort(table(uvm_mut$Hugo_Symbol))\n",
        "\n",
        "# 결과 확인 (상위 6개)\n",
        "tail(uvm_counts)\n",
        "\n"
      ],
      "metadata": {
        "id": "jGeenLqY4Zzn"
      },
      "execution_count": null,
      "outputs": []
    },
    {
      "cell_type": "markdown",
      "source": [
        "3강. Cancer Mutation 2"
      ],
      "metadata": {
        "id": "AaQMDL434idn"
      }
    },
    {
      "cell_type": "code",
      "source": [
        "install.packages(\"BiocManager\")\n",
        "BiocManager::install(\"GenVisR\")"
      ],
      "metadata": {
        "id": "YQvSXUJi4eC4"
      },
      "execution_count": null,
      "outputs": []
    },
    {
      "cell_type": "code",
      "source": [
        "# prepare tcga.mut & tumortype_tcga!\n",
        "\n",
        "library(GenVisR)\n",
        "\n",
        "UVM_sample = rownames(tumortype_tcga)[tumortype_tcga$type == \"UVM\"]\n",
        "length(UVM_sample) # [1] 80\n",
        "\n",
        "UVM_mut = tcga.mut[substr(tcga.mut$Tumor_Sample_Barcode, 1, 15) %in% paste0(UVM_sample, \"-01\"),]\n",
        "\n",
        "colnames(UVM_mut)[12] = \"amino.acid.change\"\n",
        "\n",
        "waterfall(UVM_mut, fileType=\"MAF\", mainXlabel=TRUE, mainLabelCol=\"amino.acid.change\", mainLabelSize=2)\n",
        "\n",
        "# filter genes using MutSigCV\n",
        "\n",
        "LUSC_mut_filtered = LUSC_mut[LUSC_mut$Hugo_Symbol %in% c(\"KEAP1\", \"PTEN\", \"TP53\",\n",
        "                                                         \"CDKN2A\", \"MLL2\", \"NFE2L2\", \"RB1\", \"FBXW7\", \"NOTCH1\", \"PIK3CA\"), ]\n",
        "\n",
        "waterfall(LUSC_mut_filtered, fileType=\"MAF\")"
      ],
      "metadata": {
        "id": "u6HvrUdn437Z"
      },
      "execution_count": null,
      "outputs": []
    },
    {
      "cell_type": "code",
      "source": [
        "# R script #\n",
        "table(tcga.mut$Variant_Classification)\n",
        "\n",
        "# Mutation types\n",
        "par(mar=c(12, 6, 2, 2))\n",
        "plot(table(tcga.mut$Variant_Classification), type='h', las=2)"
      ],
      "metadata": {
        "id": "u0xZq42C5PTC"
      },
      "execution_count": null,
      "outputs": []
    },
    {
      "cell_type": "code",
      "source": [
        "LUAD_sample = rownames(tumortype_tcga)[tumortype_tcga$type == \"LUAD\"]\n",
        "LUAD_mut = tcga.mut[substr(tcga.mut$Tumor_Sample_Barcode, 1, 15) %in% paste0(LUAD_sample, \"-01\"),]\n",
        "\n",
        "LUAD_mut_EGFR = LUAD_mut[LUAD_mut$Hugo_Symbol == \"EGFR\", ]\n",
        "\n",
        "table(LUAD_mut_EGFR$HGVSp_Short)"
      ],
      "metadata": {
        "id": "ZUaxQ1kT5Yil"
      },
      "execution_count": null,
      "outputs": []
    },
    {
      "cell_type": "code",
      "source": [
        "unique(LUAD_mut_EGFR[LUAD_mut_EGFR$HGVSp_Short == \"p.L858R\" |\n",
        "    LUAD_mut_EGFR$HGVSp_Short == \"p.E746_A750del\", ]$Tumor_Sample_Barcode)"
      ],
      "metadata": {
        "id": "QSog4cl75eRH"
      },
      "execution_count": null,
      "outputs": []
    },
    {
      "cell_type": "code",
      "source": [
        "# write LUAD-EGFR mutations into a file\n",
        "write.table(LUAD_mut_EGFR[,c(2,3,4,7,8)], \"LUAD_EGFR_mutations_forANNOVAR.txt\",\n",
        "sep=\"\\t\", quote=F, row.names=F, col.names=F)"
      ],
      "metadata": {
        "id": "sXb7Gycy5kyl"
      },
      "execution_count": null,
      "outputs": []
    },
    {
      "cell_type": "code",
      "source": [
        "pik3ca_missense = tcga.mut[tcga.mut$Hugo_Symbol == \"PIK3CA\" &\n",
        "    tcga.mut$Variant_Classification == \"Missense_Mutation\", ]\n",
        "\n",
        "a = regexpr(\"[0-9]+\", pik3ca_missense$HGVSp_Short, perl=TRUE)\n",
        "b = regmatches(pik3ca_missense$HGVSp_Short, a)\n",
        "hist(as.numeric(b), breaks=100)"
      ],
      "metadata": {
        "id": "QIylwJTj54iu"
      },
      "execution_count": null,
      "outputs": []
    },
    {
      "cell_type": "code",
      "source": [
        "par(mfrow=c(6,1), mar=c(2,2,2,1))\n",
        "\n",
        "genes = c(\"PIK3CA\", \"CTNNB1\", \"BRAF\", \"KRAS\", \"EGFR\", \"ERBB2\")\n",
        "\n",
        "for (gene in genes) {\n",
        "\n",
        "    gene_missense = tcga.mut[tcga.mut$Hugo_Symbol == gene &\n",
        "                             tcga.mut$Variant_Classification == \"Missense_Mutation\", ]\n",
        "\n",
        "    a = regexpr(\"[0-9]+\", gene_missense$HGVSp_Short, perl=TRUE)\n",
        "    b = regmatches(gene_missense$HGVSp_Short, a)\n",
        "\n",
        "    barplot(table(as.numeric(b)), col=\"red\", main=gene)\n",
        "}"
      ],
      "metadata": {
        "id": "J-SDyUsz6SOX"
      },
      "execution_count": null,
      "outputs": []
    },
    {
      "cell_type": "markdown",
      "source": [
        "4강. Copy number alteration 1"
      ],
      "metadata": {
        "id": "35naysHS6Sgm"
      }
    },
    {
      "cell_type": "code",
      "source": [
        "tumortype_tcga =\n",
        "  read.table(pipe(\"pbpaste\"), sep=\"\\t\",\n",
        "  header = TRUE, row.names=1)"
      ],
      "metadata": {
        "id": "Eqn7QzIk6XCc"
      },
      "execution_count": null,
      "outputs": []
    },
    {
      "cell_type": "code",
      "source": [
        "tcga.seg = read.table(\"broad.mit.edu_PANCAN_Genome_Wide_SNP_6_whitelisted.seg\",\n",
        "                      header=T, sep=\"\\t\")\n",
        "head(tcga.seg)"
      ],
      "metadata": {
        "id": "iAIvAd5v6pL7"
      },
      "execution_count": null,
      "outputs": []
    },
    {
      "cell_type": "code",
      "source": [
        "# Assign 'tumor type' and 'tumor(01)/normal(10/11)' and save\n",
        "\n",
        "tcga.seg_sample = unique(tcga.seg$Sample)\n",
        "\n",
        "tumortype_seg = tumortype_tcga[substr(tcga.seg_sample, 1, 12), ]\n",
        "\n",
        "tumornormal_seg = ifelse(substr(tcga.seg_sample, 14, 15) == \"01\", \"tumor\", \"others\")\n",
        "\n",
        "sampleAnnotation = cbind(tcga.seg_sample, tumortype_seg, tumornormal_seg)\n",
        "colnames(sampleAnnotation) = c(\"sample\", \"tumortype\", \"tumornormal\")\n",
        "\n",
        "write.table(sampleAnnotation, \"tcga_seg_sampleAnnotation.txt\", sep=\"\\t\", quote=F, row.names=F)"
      ],
      "metadata": {
        "id": "S4U8G6zG6vFu"
      },
      "execution_count": null,
      "outputs": []
    },
    {
      "cell_type": "markdown",
      "source": [
        "5강. Copy number alteration 2"
      ],
      "metadata": {
        "id": "zz5xMmsa6_ip"
      }
    },
    {
      "cell_type": "code",
      "source": [
        "# numDeriv packages should be installed prior\n",
        "install.packages(\"numDeriv\")  # need to locate a server\n",
        "\n",
        "# install downloaded ABSOLUTE package\n",
        "install.packages(\"ABSOLUTE_1.0.6.tar.gz\", repos = NULL, type=\"source\")\n",
        "\n",
        "# Run ABSOLUTE on GBM segfiles\n",
        "library(ABSOLUTE)\n",
        "\n",
        "write.table(tcga.seg[tcga.seg$Sample == \"TCGA-02-0006-01B-01D-0182-01\", ],\n",
        "            \"GBMseg_exampleCase_TCGA-02-0006.seg\", sep=\"\\t\", quote=F, row.names=F)\n",
        "\n",
        "RunAbsolute(\"GBMseg_exampleCase_TCGA-02-0006.seg\", 0, 0.02, 0.95, 10,\n",
        "            \"TCGA-GBM\", \"SNP_6.0\", \"TCGA-02-0006\", \"ABSOLUTE_RESULTS\",\n",
        "            2000, 0, 0, \"total\", verbose=TRUE)"
      ],
      "metadata": {
        "id": "qkreDJHU7CD5"
      },
      "execution_count": null,
      "outputs": []
    }
  ]
}